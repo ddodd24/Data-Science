{
 "cells": [
  {
   "cell_type": "markdown",
   "id": "d50bae0a",
   "metadata": {},
   "source": [
    "**Denise Dodd:\n",
    "Movie Recommender (Main Function, Correlations, Joins, Python Functions)**"
   ]
  },
  {
   "cell_type": "markdown",
   "id": "002a69cc",
   "metadata": {},
   "source": [
    "# **Table of Contents**\n",
    "\n",
    "[Write Up](#Write_Up)\n",
    "\n",
    "[End User Version](#End_User)\n",
    "\n",
    "[References](#References)"
   ]
  },
  {
   "cell_type": "markdown",
   "id": "d0c9bbf2",
   "metadata": {},
   "source": [
    "-----\n",
    "# **Write Up** <a id=\"Write_Up\"></a>"
   ]
  },
  {
   "cell_type": "markdown",
   "id": "1f347f86",
   "metadata": {},
   "source": [
    "I choose to run my recommender in a main function. I initially created several multi-step boxes of code using https://analyticsindiamag.com/how-to-build-your-first-recommender-system-using-python-movielens-dataset/ as a guide. However, I chose to transform those steps into a main function:\n",
    "\n",
    "a) to test my abilities with main functions which I haven’t used in several semesters \n",
    "\n",
    "b) so I can differentiate from the steps in my reference website\n",
    "\n",
    "c) to make it more user friendly (the user only has to click a box once to get their recommendation and not several boxes) \n",
    "\n",
    "In the top box of coding (the \"End User Version\"), I’ve commented out where I print the data frame each step of the way to check for accuracy. This is the final version I would present to an end user. I displayed the results of my recommender with the user requesting a valid movie, an invalid movie, and exiting the loop. \n",
    "\n",
    "The first steps in the main function are the same intro steps in all my coding. I load my modules, set my directory, and load the necessary files as panda data frames. Following these introductory steps are the following functions: \n",
    "\n",
    "**Merge** – This function left merges the ratings_df data frame and the movies_df data frame on the ‘movieID’ column. The function returns the resulting merged_df data frame. \n",
    "\n",
    "**Features** – This function groups the merged_df data frame by ‘title’ and finds the mean ‘rating’ per ‘title.’ A new column called ‘Total Ratings’ is added which counts the number of ratings per title. The function then returns the resulting average_ratings_df which consist of three columns: ‘title,’ ‘rating,’ and ‘Total Ratings.’ This information is useful as our recommender will only return movies that have at least 100 reviews so outlier reviews don’t skew the results.\n",
    "\n",
    "**Pivot** – This function pivots the merged_df data frame using the ‘userID’ column as the new index, the titles of each movie as the columns, and the ratings of each userID/movie as the data in the body of the pivoted_df data frame. The function returns the pivoted_df which is a very wide data frame with several NaN values in the body as every movie is its own column and values will only populate for each movie that each user has rated. The recommender will use this to find correlations among the movies. \n",
    "\n",
    "**Recommender** – Now that all the data frames are formatted, this function does what the assignment asks, which is to obtain a movie from the user and recommend 10 similar movies. This function is a loop which asks the user to input the name and release year of a movie they would like recommendations for or type ‘quit’ in any upper/lowercase combination to leave the loop. If the user requests a movie that is not in the database, the loop alerts the user to the error and repeats from the beginning requesting a movie. If the user inputs a movie which is in the database, the loop continues to the recommendation programing. \n",
    "\n",
    "**Recommender cont** – If given a valid movie, the recommender will first calculate the correlation between the requested movie and all other movies in the data frame. It will then convert the correlation series to a data frame and drop the rows with NaN in the correlation column. The ‘Total Ratings’ column from the average_ratings_df will be added to the correlations_df. Movies with less than 100 ratings will be removed to limit the skew of outliers. The data frame will then be sorted so the movies with the highest correlation to the user requested movie will be on top and the lowest correlation will be on bottom. Following the guide at the above website, I then left joined the movies_df on the ‘title’ column so the ‘genre’ and ‘movieID’ columns could be included in the final output. I debated the necessity of this step, but it could be useful if the user is in the mood for a particular genre. I thought of dropping the ‘movieID’ column, but left it in incase the user is familiar with the dataset and refers to the movies by their movieID or if this recommender will be expanded in the future. Finally, the recommender will print the first ten lines of the sorted data frame. Then the loop will start over, and the user can request recommendations for a new movie or opt to exit the loop. "
   ]
  },
  {
   "cell_type": "markdown",
   "id": "1bd2e3ce",
   "metadata": {},
   "source": [
    "----\n",
    "# **End User Version** <a id=\"End_User\"></a>"
   ]
  },
  {
   "cell_type": "code",
   "execution_count": 2,
   "id": "b7320195",
   "metadata": {},
   "outputs": [
    {
     "name": "stdout",
     "output_type": "stream",
     "text": [
      "\n",
      "Please enter a movie and corresponding year from the dataset (or 'quit' to exit): Finding Nemo (2003)\n",
      "\n",
      "Great! I'll recommend ten movies for you similar to Finding Nemo (2003).\n",
      "                               title  Correlation  Total Ratings  movieId  \\\n",
      "0                Finding Nemo (2003)     1.000000            141     6377   \n",
      "1                       Shrek (2001)     0.644980            170     4306   \n",
      "2                   Toy Story (1995)     0.618701            215        1   \n",
      "3         Princess Bride, The (1987)     0.609508            142     1197   \n",
      "4              Monsters, Inc. (2001)     0.583469            132     4886   \n",
      "5            Incredibles, The (2004)     0.561018            125     8961   \n",
      "6                Pretty Woman (1990)     0.545784            135      597   \n",
      "7                     Aladdin (1992)     0.543285            183      588   \n",
      "8  Die Hard: With a Vengeance (1995)     0.539991            144      165   \n",
      "9                     Twister (1996)     0.528666            123      736   \n",
      "\n",
      "                                              genres  \n",
      "0                Adventure|Animation|Children|Comedy  \n",
      "1  Adventure|Animation|Children|Comedy|Fantasy|Ro...  \n",
      "2        Adventure|Animation|Children|Comedy|Fantasy  \n",
      "3            Action|Adventure|Comedy|Fantasy|Romance  \n",
      "4        Adventure|Animation|Children|Comedy|Fantasy  \n",
      "5         Action|Adventure|Animation|Children|Comedy  \n",
      "6                                     Comedy|Romance  \n",
      "7        Adventure|Animation|Children|Comedy|Musical  \n",
      "8                              Action|Crime|Thriller  \n",
      "9                  Action|Adventure|Romance|Thriller  \n",
      "\n",
      "Please enter a movie and corresponding year from the dataset (or 'quit' to exit): abc\n",
      "\n",
      "Error: Selected movie not found in the dataset. Please try again.\n",
      "\n",
      "Please enter a movie and corresponding year from the dataset (or 'quit' to exit): quit\n",
      "\n",
      "Thanks for using the recommender. I hope you enjoy your selected movie.\n"
     ]
    }
   ],
   "source": [
    "# Import needed modules.\n",
    "import numpy as np\n",
    "import pandas as pd\n",
    "import os\n",
    "import warnings\n",
    "warnings.filterwarnings(\"ignore\", category=RuntimeWarning)\n",
    "\n",
    "# Left merge dfs on the movieID col.\n",
    "# Check for accuracy(commented out on final run).\n",
    "def merge(ratings_df, movies_df):\n",
    "    merged_df = ratings_df.merge(movies_df,on='movieId', how='left')\n",
    "    #print(f\"\\n\\033[1mThe current shape of the merged dataframe is \n",
    "        #{merged_df.shape}.\\033[0m\")\n",
    "    #print(f\"\\033[1mPreview the merged dataframe:\\033[0m\\n{merged_df.head(5)}\")\n",
    "    return merged_df\n",
    "\n",
    "# Find the average ratings by grouping the merged dataframe by title and finding the average rating per title.\n",
    "# Add a new col to the above df which groups the merged dataframe by title and counts the number of ratings per title.\n",
    "# Check for accuracy(commented out on final run).\n",
    "def features(merged_df):\n",
    "    average_ratings_df = pd.DataFrame(merged_df.groupby('title')['rating'].mean())\n",
    "    average_ratings_df['Total Ratings'] = pd.DataFrame(merged_df.groupby('title')['rating'].count())\n",
    "    #print(f\"\\n\\033[1mThe current shape of the average ratings dataframe is {average_ratings_df.shape}.\\033[0m\")\n",
    "    #print(f\"\\033[1mPreview the average ratings dataframe:\\033[0m\\n{average_ratings_df.head(5)}\")\n",
    "    return average_ratings_df\n",
    "\n",
    "# Pivot the merged dataframe using the userID col as the new index, the titles of each movie as the columns, \n",
    "# and the ratings of each userID/movie as the data in the body of the pivoted dataframe.\n",
    "# Check for accuracy(commented out on final run).\n",
    "def pivot(merged_df):\n",
    "    pivoted_df = merged_df.pivot_table(index='userId',columns='title',values='rating')\n",
    "    #print(f\"\\n\\033[1mThe current shape of the pivoted dataframe is {pivoted_df.shape}.\\033[0m\")\n",
    "    #print(f\"\\033[1mPreview the pivoted dataframe:\\033[0m\\n{pivoted_df.head(5)}\")\n",
    "    return pivoted_df\n",
    "\n",
    "# Create loop to obtain user input of a movie selection and produce recommendations based on the input.\n",
    "def recommender(pivoted_df, average_ratings_df, movies_df):\n",
    "    while True:\n",
    "        # Ask user to enter a movie for which they would like recommendations.\n",
    "        user_input = input(\"\\nPlease enter a movie and corresponding year from the dataset (or 'quit' to exit): \")\n",
    "\n",
    "        # If user opts to leave the recommender exit the loop.\n",
    "        if user_input.lower() == 'quit':\n",
    "            print(\"\\nThanks for using the recommender. I hope you enjoy your selected movie.\")\n",
    "            break \n",
    "        \n",
    "        # If the user input is present in the movies dataframe proceed with providing recommendation.\n",
    "        elif user_input in movies_df['title'].values:\n",
    "            print(f\"\\nGreat! I'll recommend ten movies for you similar to {user_input}.\")\n",
    "        \n",
    "            # Calculate the correlation of the user input movie with all of the columns in the pivoted_df.\n",
    "            correlations = pivoted_df.corrwith(pivoted_df[user_input])\n",
    "            # Convert the above correlations series to a dataframe. Drop any rows with an N/A (likely in the correlations col).\n",
    "            correlations = pd.DataFrame(correlations, columns=['Correlation']).dropna()\n",
    "            # Join the correlations dataframe with the Total Ratings row of the average_ratings_df.\n",
    "            correlations = correlations.join(average_ratings_df['Total Ratings'])\n",
    "            # Create dataframe of recommendations.  Only include listings with over 100 Total Ratings.\n",
    "            # Sort the dataframe from highest to lowest values in correlation column.\n",
    "            recommendation = correlations[correlations['Total Ratings']>100].sort_values('Correlation',ascending=False).reset_index()\n",
    "            # Left merge the recommendation dataframe with the movies dataframe on the title column to include genre and movieID.\n",
    "            recommendation = recommendation.merge(movies_df,on='title', how='left')\n",
    "            # Print the first ten listings of the recommendation dataframe.\n",
    "            # Because the dataframe is sorted descending based on Correlation col, \n",
    "            # these will be the movies with the 10 highest correlations to the user input movie.\n",
    "            print(recommendation.head(10))\n",
    "    \n",
    "        # If user enters invalid entry allow them to try again.\n",
    "        else:\n",
    "            print(\"\\nError: Selected movie not found in the dataset. Please try again.\")   \n",
    "    \n",
    "def main():\n",
    "    # Set directory.\n",
    "    os.chdir('C:/Users/hadle/Downloads')\n",
    "    # Load ratings file.\n",
    "    ratings_df = pd.read_csv('ratings.csv')\n",
    "    # Check for accuracy(commented out on final run).\n",
    "    #print(f\"\\033[1mThe current shape of the ratings dataframe is {ratings_df.shape}.\\033[0m\")\n",
    "    #print(f\"\\033[1mPreview the ratings dataframe:\\033[0m\\n{ratings_df.head(5)}\")\n",
    "    # Load movies file.\n",
    "    movies_df = pd.read_csv(\"movies.csv\")\n",
    "    # Check for accuracy(commented out on final run).\n",
    "    #print(f\"\\n\\033[1mThe current shape of the movies dataframe is {movies_df.shape}.\\033[0m\")\n",
    "    #print(f\"\\033[1mPreview the movies dataframe:\\033[0m\\n{movies_df.head(5)}\")\n",
    " \n",
    "    # Call above functions.\n",
    "    merged_df = merge(ratings_df, movies_df)\n",
    "    average_ratings_df = features(merged_df)\n",
    "    pivoted_df = pivot(merged_df)\n",
    "    recommender(pivoted_df, average_ratings_df, movies_df)\n",
    "    \n",
    "# Call to main.\n",
    "if __name__ == '__main__':\n",
    "    main()"
   ]
  },
  {
   "cell_type": "markdown",
   "id": "63400021",
   "metadata": {},
   "source": [
    "--------\n",
    "# **References** <a id=\"References\"></a>"
   ]
  },
  {
   "cell_type": "markdown",
   "id": "0110dfc4",
   "metadata": {},
   "source": [
    "Nair, A. (2020, October 10). How to build your first recommender system using Python & Movielens Dataset. Analytics India Magazine. https://analyticsindiamag.com/how-to-build-your-first-recommender-system-using-python-movielens-dataset/ "
   ]
  }
 ],
 "metadata": {
  "kernelspec": {
   "display_name": "Python 3 (ipykernel)",
   "language": "python",
   "name": "python3"
  },
  "language_info": {
   "codemirror_mode": {
    "name": "ipython",
    "version": 3
   },
   "file_extension": ".py",
   "mimetype": "text/x-python",
   "name": "python",
   "nbconvert_exporter": "python",
   "pygments_lexer": "ipython3",
   "version": "3.10.9"
  }
 },
 "nbformat": 4,
 "nbformat_minor": 5
}
