{
 "cells": [
  {
   "cell_type": "markdown",
   "id": "1b34fceb",
   "metadata": {},
   "source": [
    "**Denise Dodd: Classifying Images (Convolutional Neural Network (CNN))**"
   ]
  },
  {
   "cell_type": "markdown",
   "id": "9611b169",
   "metadata": {},
   "source": [
    "**In this exercise, I will build a convolutional neural network (CNN) to classify handwritten digits from the MNIST dataset.**"
   ]
  },
  {
   "cell_type": "code",
   "execution_count": 1,
   "id": "86cc5079",
   "metadata": {},
   "outputs": [],
   "source": [
    "# Import needed modules.\n",
    "from keras.datasets import mnist\n",
    "import matplotlib.pyplot as plt\n",
    "import numpy as np\n",
    "from keras import layers\n",
    "from keras import models\n",
    "from keras.models import Sequential\n",
    "from keras.utils import to_categorical\n",
    "from keras.layers import Conv2D, MaxPooling2D, Flatten, Dense\n",
    "from sklearn.metrics import confusion_matrix"
   ]
  },
  {
   "cell_type": "markdown",
   "id": "7358e61b",
   "metadata": {},
   "source": [
    "**1) Load the MNIST data set.**"
   ]
  },
  {
   "cell_type": "code",
   "execution_count": 2,
   "id": "62c0ab3c",
   "metadata": {},
   "outputs": [],
   "source": [
    "# Sec 20.15.\n",
    "# Load data and target from MNIST data\n",
    "(data_train, target_train), (data_test, target_test) = mnist.load_data()\n",
    "# (data_train, target_train), (data_test, target_test) = mnist.load_data()"
   ]
  },
  {
   "cell_type": "markdown",
   "id": "bf95e3bb",
   "metadata": {},
   "source": [
    "**2) Display the first five images in the training data set (see section 8.1 in the Machine Learning with Python Cookbook). Compare these to the first five training labels.**"
   ]
  },
  {
   "cell_type": "code",
   "execution_count": 3,
   "id": "9a4157bb",
   "metadata": {},
   "outputs": [
    {
     "data": {
      "image/png": "[encoded data removed]",
      "text/plain": [
       "<Figure size 640x480 with 5 Axes>"
      ]
     },
     "metadata": {},
     "output_type": "display_data"
    }
   ],
   "source": [
    "# Sec 8.1.\n",
    "# Use for loop to iterate over the first five images in the training set.\n",
    "# Preplot with 1 row and 5 cols.  Specify which image is being plotted with iamge+1.\n",
    "# Determine which image to show.  Print image in gray scale.\n",
    "# Use title to print the actual number which the images represent.\n",
    "# Turn off grids, ticks, and axis usually used in plots for ease of viewing.\n",
    "# Once the loop is complete, display image.\n",
    "for image in range(5):\n",
    "    plt.subplot(1, 5, image + 1)\n",
    "    plt.imshow(data_train[image], cmap=\"gray\")\n",
    "    plt.title(str(target_train[image]))\n",
    "    plt.axis('off')\n",
    "plt.show()"
   ]
  },
  {
   "cell_type": "markdown",
   "id": "b3873ed8",
   "metadata": {},
   "source": [
    "**3) Build and train a Keras CNN classifier on the MNIST training set.**"
   ]
  },
  {
   "cell_type": "code",
   "execution_count": 4,
   "id": "8e34426a",
   "metadata": {},
   "outputs": [
    {
     "name": "stdout",
     "output_type": "stream",
     "text": [
      "Epoch 1/5\n",
      "469/469 [==============================] - 90s 188ms/step - loss: 0.2410 - accuracy: 0.9279\n",
      "Epoch 2/5\n",
      "469/469 [==============================] - 84s 180ms/step - loss: 0.0710 - accuracy: 0.9786\n",
      "Epoch 3/5\n",
      "469/469 [==============================] - 94s 200ms/step - loss: 0.0475 - accuracy: 0.9857\n",
      "Epoch 4/5\n",
      "469/469 [==============================] - 95s 202ms/step - loss: 0.0364 - accuracy: 0.9893\n",
      "Epoch 5/5\n",
      "469/469 [==============================] - 94s 200ms/step - loss: 0.0271 - accuracy: 0.9916\n"
     ]
    },
    {
     "data": {
      "text/plain": [
       "<keras.src.callbacks.History at 0x2c763d2d510>"
      ]
     },
     "execution_count": 4,
     "metadata": {},
     "output_type": "execute_result"
    }
   ],
   "source": [
    "# Chap 20.\n",
    "# Start neural network.\n",
    "model = models.Sequential()\n",
    "\n",
    "# Add 2-dimensional convolutional layer with a ReLU activation function.\n",
    "# Set the number of kernals at 64 to indicate 64 grids used on data to detect features.\n",
    "# Set size of kernals at  3X3.\n",
    "# Set image shape to represnet grayscale images.\n",
    "model.add(layers.Conv2D(filters = 64, kernel_size = (3, 3), activation='relu', input_shape=(28, 28, 1)))\n",
    "\n",
    "# Add 2-dimensional MaxPooling layer for feature extraction.\n",
    "# Set pool size of 2x2.\n",
    "model.add(layers.MaxPooling2D(pool_size=(2, 2)))\n",
    "\n",
    "# Flatten to a 1 dimensional layer compatable with dense layer.\n",
    "model.add(layers.Flatten())\n",
    "# Add fully connected layer with a ReLU activation function\n",
    "model.add(layers.Dense(units = 64, activation='relu'))\n",
    "# Add fully connected layer with a softmax activation function to assign probabilities.\n",
    "model.add(layers.Dense(units = 10, activation='softmax'))\n",
    "\n",
    "# Compile model.\n",
    "# Use categorical_crossentrophy to minimize loss.\n",
    "# Use root mean square propagation to optimize performance.\n",
    "# Use accuracy as the metric to evalute model.\n",
    "model.compile(loss='categorical_crossentropy', optimizer='rmsprop', metrics=['accuracy'])\n",
    "\n",
    "# Reshape training images and indicate gray scale.\n",
    "# Convert pixel data type to float and rescale to between 0 and 1.\n",
    "data_train = data_train.reshape(60000, 28, 28, 1)\n",
    "data_train = data_train.astype('float32') / 255\n",
    "\n",
    "# Reshape testing images and indicate gray scale.\n",
    "# Convert pixel data type to float and rescale to between 0 and 1.\n",
    "data_test = data_test.reshape(10000, 28, 28, 1)\n",
    "data_test = data_test.astype('float32') / 255\n",
    "\n",
    "# One-hot encode labels.\n",
    "target_train = to_categorical(target_train)\n",
    "target_test = to_categorical(target_test)\n",
    "\n",
    "# Fit the model with training data.\n",
    "# Pass data trough model 5 times (this takes awhile!)\n",
    "# Batch 128 samples at a time (used a large batch size to save on time.)\n",
    "model.fit(data_train, target_train, epochs=5, batch_size=128)"
   ]
  },
  {
   "cell_type": "markdown",
   "id": "2257caf7",
   "metadata": {},
   "source": [
    "**4) Report the test accuracy of your model.**"
   ]
  },
  {
   "cell_type": "code",
   "execution_count": 5,
   "id": "beb9c099",
   "metadata": {},
   "outputs": [
    {
     "name": "stdout",
     "output_type": "stream",
     "text": [
      "313/313 [==============================] - 6s 19ms/step - loss: 0.0475 - accuracy: 0.9848\n",
      "Test accuracy: 0.98\n"
     ]
    }
   ],
   "source": [
    "# Calculate the loss and accuracy of test data.\n",
    "test_loss, test_acc = model.evaluate(data_test, target_test)\n",
    "\n",
    "# Print test accuracy rounded to 2 decimals.\n",
    "print('Test accuracy:', round(test_acc,2))"
   ]
  },
  {
   "cell_type": "markdown",
   "id": "08d32175",
   "metadata": {},
   "source": [
    "**5) Display a confusion matrix on the test set classifications.**"
   ]
  },
  {
   "cell_type": "code",
   "execution_count": 6,
   "id": "43fc56a8",
   "metadata": {},
   "outputs": [
    {
     "name": "stdout",
     "output_type": "stream",
     "text": [
      "313/313 [==============================] - 6s 19ms/step\n",
      "[[ 976    0    1    0    0    2    0    1    0    0]\n",
      " [   0 1128    3    1    0    0    2    0    1    0]\n",
      " [   2    2 1013    2    3    1    2    5    2    0]\n",
      " [   0    0    0 1001    0    3    0    4    2    0]\n",
      " [   0    0    0    0  981    0    0    0    0    1]\n",
      " [   1    0    0    8    0  881    2    0    0    0]\n",
      " [   7    2    0    1    1    2  944    1    0    0]\n",
      " [   1    1   10    1    1    0    0 1013    1    0]\n",
      " [   6    0    5    3    2    4    1    4  944    5]\n",
      " [   1    3    0    3   15    5    0   10    5  967]]\n"
     ]
    }
   ],
   "source": [
    "# Use model to find predicted probabilities of test images.\n",
    "# Store the highest probabilities in numpy arrays.\n",
    "test_pred = model.predict(data_test)\n",
    "test_pred_labels = np.argmax(test_pred, axis=1)\n",
    "test_target_test = np.argmax(target_test, axis=1)\n",
    "print(confusion_matrix(test_target_test, test_pred_labels))"
   ]
  },
  {
   "cell_type": "markdown",
   "id": "e5fece69",
   "metadata": {},
   "source": [
    "**6) Summarize results.**"
   ]
  },
  {
   "cell_type": "markdown",
   "id": "8f3cff05",
   "metadata": {},
   "source": [
    "Overall, the model has an accuracy of 98%.  I likly could have improved this accuracy by raising the epoch value when I fitted the model but I choose a lower value for the sake of time.  I also could have lowered the batch size to increase accuracy but I was comfortable with the accuracy value of 98% for the purposes of the exercise.\n",
    "\n",
    "The confusion matrix furthur explains the accuracy value by detailing performance on each class.  The diagonal numbers represent correct classifications.  The low values outside of the middle diagonal repesenting misclassifications show that most predicitions were classified correct.\n",
    "\n",
    "With the results shown by the accuracy percentage and confusion matrix, I would be comfortable using the model to interpret handwirtten numbers in the MNIST dataset."
   ]
  },
  {
   "cell_type": "code",
   "execution_count": null,
   "id": "be78b830",
   "metadata": {},
   "outputs": [],
   "source": []
  }
 ],
 "metadata": {
  "kernelspec": {
   "display_name": "Python 3 (ipykernel)",
   "language": "python",
   "name": "python3"
  },
  "language_info": {
   "codemirror_mode": {
    "name": "ipython",
    "version": 3
   },
   "file_extension": ".py",
   "mimetype": "text/x-python",
   "name": "python",
   "nbconvert_exporter": "python",
   "pygments_lexer": "ipython3",
   "version": "3.10.9"
  }
 },
 "nbformat": 4,
 "nbformat_minor": 5
}
